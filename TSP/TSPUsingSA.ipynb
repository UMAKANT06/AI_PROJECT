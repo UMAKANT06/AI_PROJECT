{
 "cells": [
  {
   "cell_type": "code",
   "execution_count": 1,
   "metadata": {},
   "outputs": [],
   "source": [
    "import copy\n",
    "import numpy as np\n",
    "import os\n",
    "import random"
   ]
  },
  {
   "cell_type": "code",
   "execution_count": 2,
   "metadata": {},
   "outputs": [],
   "source": [
    "def seed_function(distance_matrix):\n",
    "    seed     = [[], float('inf')]\n",
    "    sequence = random.sample(list(range(1, distance_matrix.shape[0]+1)), distance_matrix.shape[0])\n",
    "    sequence.append(sequence[0])\n",
    "    seed[0]  = sequence\n",
    "    seed[1]  = distance_calc(distance_matrix, seed)\n",
    "    return seed"
   ]
  },
  {
   "cell_type": "code",
   "execution_count": 3,
   "metadata": {},
   "outputs": [],
   "source": [
    "def distance_calc(distance_matrix, city_tour):\n",
    "    distance = 0\n",
    "    for k in range(0, len(city_tour[0])-1):\n",
    "        m        = k + 1\n",
    "        distance = distance + distance_matrix[city_tour[0][k]-1, city_tour[0][m]-1]            \n",
    "    return distance\n"
   ]
  },
  {
   "cell_type": "code",
   "execution_count": 4,
   "metadata": {},
   "outputs": [],
   "source": [
    "def simulated_annealing_tsp(distance_matrix, initial_temperature = 1.0, temperature_iterations = 10, final_temperature = 0.0001, alpha = 0.9, verbose = True):\n",
    "    guess       = seed_function(distance_matrix)\n",
    "    best        = np.copy(guess)\n",
    "    temperature = float(initial_temperature)\n",
    "    fx_best     = float('+inf')\n",
    "    while (temperature > final_temperature): \n",
    "        for repeat in range(0, temperature_iterations):\n",
    "            if (verbose == True):\n",
    "                print('Temperature = ', round(temperature, 4), ' ; iteration = ', repeat, ' ; Distance = ', round(best[1], 2))\n",
    "            fx_old    = guess[1]\n",
    "            new_guess = update_solution(distance_matrix, guess)\n",
    "            new_guess = local_search_2_opt(distance_matrix, new_guess, recursive_seeding = -1, verbose = False)\n",
    "            fx_new    = new_guess[1] \n",
    "            delta     = (fx_new - fx_old)\n",
    "            r         = int.from_bytes(os.urandom(8), byteorder = 'big') / ((1 << 64) - 1)\n",
    "            p         = np.exp(-delta/temperature)\n",
    "            if (delta < 0 or r <= p):\n",
    "                guess = np.copy(new_guess)   \n",
    "            if (fx_new < fx_best):\n",
    "                fx_best = fx_new\n",
    "                best    = np.copy(guess)\n",
    "        temperature = alpha*temperature  \n",
    "    route, distance = guess\n",
    "    return route, distance\n"
   ]
  },
  {
   "cell_type": "code",
   "execution_count": 5,
   "metadata": {},
   "outputs": [],
   "source": [
    "import graphs"
   ]
  },
  {
   "cell_type": "code",
   "execution_count": null,
   "metadata": {},
   "outputs": [],
   "source": []
  }
 ],
 "metadata": {
  "kernelspec": {
   "display_name": "Python 3",
   "language": "python",
   "name": "python3"
  },
  "language_info": {
   "codemirror_mode": {
    "name": "ipython",
    "version": 3
   },
   "file_extension": ".py",
   "mimetype": "text/x-python",
   "name": "python",
   "nbconvert_exporter": "python",
   "pygments_lexer": "ipython3",
   "version": "3.12.2"
  }
 },
 "nbformat": 4,
 "nbformat_minor": 2
}
